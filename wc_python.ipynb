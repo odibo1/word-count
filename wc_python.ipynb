{
  "nbformat": 4,
  "nbformat_minor": 0,
  "metadata": {
    "colab": {
      "name": "wc_python.ipynb",
      "provenance": [],
      "authorship_tag": "ABX9TyMrrl5Rx3hI+HylyjBvVRxc",
      "include_colab_link": true
    },
    "kernelspec": {
      "name": "python3",
      "display_name": "Python 3"
    }
  },
  "cells": [
    {
      "cell_type": "markdown",
      "metadata": {
        "id": "view-in-github",
        "colab_type": "text"
      },
      "source": [
        "<a href=\"https://colab.research.google.com/github/odibo1/word-count/blob/master/wc_python.ipynb\" target=\"_parent\"><img src=\"https://colab.research.google.com/assets/colab-badge.svg\" alt=\"Open In Colab\"/></a>"
      ]
    },
    {
      "cell_type": "markdown",
      "metadata": {
        "id": "dEQtc9V853lj",
        "colab_type": "text"
      },
      "source": [
        "Simple word count using Python\n"
      ]
    },
    {
      "cell_type": "code",
      "metadata": {
        "id": "q8Nt_2ap4tkU",
        "colab_type": "code",
        "colab": {
          "base_uri": "https://localhost:8080/",
          "height": 35
        },
        "outputId": "c093f410-f719-49d7-9e49-ea46e1a11ab2"
      },
      "source": [
        "hamlet_line = [\"to be or\", \"not to be\"]\n",
        "\n",
        "hamlet_words = []\n",
        "\n",
        "for line in hamlet_line:\n",
        "    words = line.split(\" \")\n",
        "    hamlet_words.append(words)\n",
        "\n",
        "print(hamlet_words)"
      ],
      "execution_count": 3,
      "outputs": [
        {
          "output_type": "stream",
          "text": [
            "[['to', 'be', 'or'], ['not', 'to', 'be']]\n"
          ],
          "name": "stdout"
        }
      ]
    },
    {
      "cell_type": "code",
      "metadata": {
        "id": "i9MqSL3G8JvW",
        "colab_type": "code",
        "colab": {
          "base_uri": "https://localhost:8080/",
          "height": 35
        },
        "outputId": "6e3868a7-b991-4eee-c054-32b77055e6db"
      },
      "source": [
        "hamlet_words2 = []\n",
        "\n",
        "for x in hamlet_words:\n",
        "    for word in x:\n",
        "        hamlet_words2.append(word.lower())\n",
        "\n",
        "print(hamlet_words2)"
      ],
      "execution_count": 7,
      "outputs": [
        {
          "output_type": "stream",
          "text": [
            "['to', 'be', 'or', 'not', 'to', 'be']\n"
          ],
          "name": "stdout"
        }
      ]
    },
    {
      "cell_type": "code",
      "metadata": {
        "id": "uh51e9_q9Vds",
        "colab_type": "code",
        "colab": {
          "base_uri": "https://localhost:8080/",
          "height": 35
        },
        "outputId": "c401ddfb-d90d-4caf-aa1d-5940fa143a99"
      },
      "source": [
        "word_count_dict = {}\n",
        "\n",
        "for word in hamlet_words2:\n",
        "    if word in word_count_dict.keys():\n",
        "        #increase value by 1\n",
        "        word_count_dict[word] += 1\n",
        "    else:\n",
        "        #add word to keys\n",
        "        word_count_dict[word] = 1\n",
        "\n",
        "print(word_count_dict)\n"
      ],
      "execution_count": 8,
      "outputs": [
        {
          "output_type": "stream",
          "text": [
            "{'to': 2, 'be': 2, 'or': 1, 'not': 1}\n"
          ],
          "name": "stdout"
        }
      ]
    }
  ]
}